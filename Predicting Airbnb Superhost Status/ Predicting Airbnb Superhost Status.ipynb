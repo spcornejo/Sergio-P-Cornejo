{
 "cells": [
  {
   "cell_type": "markdown",
   "metadata": {},
   "source": [
    "# <u>Case Study</u>: Predicting Airbnb Superhost Status\n",
    "\n",
    "#### Sergio Cornejo\n",
    "#### April 20, 2022\n",
    "\n",
    "Suppose that you have a spare room in your house (in Seattle) and you are considering advertising this room to guests on Airbnb. Airbnb superhosts are considered to be experienced hosts who provide a shining example for other hosts, and extraordinary experiences for their guests. Once a host reaches Superhost status, a superhost badge will automatically appear on their listing and profile to help guests identify them. You would like to assess your chances of being named a superhost with your property.\n",
    "\n",
    "The following dataset is a sample (assume random) of available Airbnb listings in Seattle, WA. These listings were collected in January 2016, and filtered to just contain listings from the five most popular Seattlbe neighborhoods (for Airbnb listings) and just contain listings that are either in a house or apartment property.\n",
    "\n",
    "This dataset contains the following variables.\n",
    "\n",
    "**Listing Information**\n",
    "The dataset contains the following information about the Airbnb *listing*:\n",
    "* <u>price</u>: price of the listing (per night)(in US dollars)\n",
    "* <u>review_scores_rating</u>: the average rating of the listing [0,100] (100 is the best)\n",
    "* <u>number_of_reviews</u>: the number of reviews for the listing\n",
    "* <u>security_deposit</u>: the security deposit required for the listing (in US dollars)\n",
    "* <u>cleaning_fee</u>: the cleaning fee required for the listing (in US dollars)\n",
    "* <u>neighborhood</u>: the neighborhood of Seattle the listing is located in\n",
    "* <u>property_type</u>: is the listing in a 'House' or 'Apartment'\n",
    "* <u>room_type</u>: is the listing a 'Entire home/apt', 'Private room', or 'Shared room'\n",
    "* <u>accommodates</u>: how many guests will the listing accommodate\n",
    "* <u>bathrooms</u>:how many bathrooms does the listing have\n",
    "* <u>beds</u>: how many beds does the listing have\n",
    "\n",
    "**Host Information**\n",
    "The dataset also contains the following information about the *host* of the given Airbnb listing:\n",
    "* <u>host_is_superhost</u>: is the host a \"superhost\": t=True, f=False\n",
    "* <u>host_has_profile_pic</u>: does the host have a profile pic in their bio: t=True, f=False\n",
    "* <u>host_response_time</u>: how fast will the host respond to requests (on average)\n",
    "* <u>host_acceptance_rate</u>: what percent of booking requests will the host accept\n",
    "\n"
   ]
  },
  {
   "cell_type": "markdown",
   "metadata": {},
   "source": [
    "### Imports"
   ]
  },
  {
   "cell_type": "code",
   "execution_count": 40,
   "metadata": {},
   "outputs": [],
   "source": [
    "import pandas as pd\n",
    "import seaborn as sns\n",
    "import matplotlib.pyplot as plt\n",
    "import numpy as np\n",
    "\n",
    "import statsmodels.api as sm\n",
    "import statsmodels.formula.api as smf\n",
    "\n",
    "from sklearn.metrics import confusion_matrix, roc_curve, roc_auc_score"
   ]
  },
  {
   "cell_type": "markdown",
   "metadata": {},
   "source": [
    "## 1. Data Processing and Cleaning"
   ]
  },
  {
   "cell_type": "code",
   "execution_count": 41,
   "metadata": {
    "scrolled": true
   },
   "outputs": [
    {
     "data": {
      "text/html": [
       "<div>\n",
       "<style scoped>\n",
       "    .dataframe tbody tr th:only-of-type {\n",
       "        vertical-align: middle;\n",
       "    }\n",
       "\n",
       "    .dataframe tbody tr th {\n",
       "        vertical-align: top;\n",
       "    }\n",
       "\n",
       "    .dataframe thead th {\n",
       "        text-align: right;\n",
       "    }\n",
       "</style>\n",
       "<table border=\"1\" class=\"dataframe\">\n",
       "  <thead>\n",
       "    <tr style=\"text-align: right;\">\n",
       "      <th></th>\n",
       "      <th>price</th>\n",
       "      <th>review_scores_rating</th>\n",
       "      <th>number_of_reviews</th>\n",
       "      <th>security_deposit</th>\n",
       "      <th>cleaning_fee</th>\n",
       "      <th>neighborhood</th>\n",
       "      <th>property_type</th>\n",
       "      <th>room_type</th>\n",
       "      <th>accommodates</th>\n",
       "      <th>bathrooms</th>\n",
       "      <th>beds</th>\n",
       "      <th>host_response_time</th>\n",
       "      <th>host_response_rate</th>\n",
       "      <th>host_acceptance_rate</th>\n",
       "      <th>host_is_superhost</th>\n",
       "      <th>host_has_profile_pic</th>\n",
       "      <th>host_identity_verified</th>\n",
       "    </tr>\n",
       "  </thead>\n",
       "  <tbody>\n",
       "    <tr>\n",
       "      <th>0</th>\n",
       "      <td>300</td>\n",
       "      <td>100</td>\n",
       "      <td>24</td>\n",
       "      <td>500</td>\n",
       "      <td>95</td>\n",
       "      <td>Wallingford</td>\n",
       "      <td>House</td>\n",
       "      <td>Entire home/apt</td>\n",
       "      <td>5</td>\n",
       "      <td>1.5</td>\n",
       "      <td>3</td>\n",
       "      <td>within a few hours</td>\n",
       "      <td>1.0</td>\n",
       "      <td>1</td>\n",
       "      <td>t</td>\n",
       "      <td>t</td>\n",
       "      <td>t</td>\n",
       "    </tr>\n",
       "    <tr>\n",
       "      <th>1</th>\n",
       "      <td>149</td>\n",
       "      <td>96</td>\n",
       "      <td>11</td>\n",
       "      <td>300</td>\n",
       "      <td>105</td>\n",
       "      <td>Wallingford</td>\n",
       "      <td>Apartment</td>\n",
       "      <td>Entire home/apt</td>\n",
       "      <td>6</td>\n",
       "      <td>1.0</td>\n",
       "      <td>3</td>\n",
       "      <td>within an hour</td>\n",
       "      <td>1.0</td>\n",
       "      <td>1</td>\n",
       "      <td>f</td>\n",
       "      <td>t</td>\n",
       "      <td>t</td>\n",
       "    </tr>\n",
       "    <tr>\n",
       "      <th>2</th>\n",
       "      <td>95</td>\n",
       "      <td>95</td>\n",
       "      <td>79</td>\n",
       "      <td>150</td>\n",
       "      <td>40</td>\n",
       "      <td>Wallingford</td>\n",
       "      <td>Apartment</td>\n",
       "      <td>Entire home/apt</td>\n",
       "      <td>3</td>\n",
       "      <td>1.0</td>\n",
       "      <td>2</td>\n",
       "      <td>within an hour</td>\n",
       "      <td>1.0</td>\n",
       "      <td>1</td>\n",
       "      <td>f</td>\n",
       "      <td>t</td>\n",
       "      <td>t</td>\n",
       "    </tr>\n",
       "    <tr>\n",
       "      <th>3</th>\n",
       "      <td>105</td>\n",
       "      <td>100</td>\n",
       "      <td>13</td>\n",
       "      <td>500</td>\n",
       "      <td>50</td>\n",
       "      <td>Wallingford</td>\n",
       "      <td>House</td>\n",
       "      <td>Private room</td>\n",
       "      <td>2</td>\n",
       "      <td>2.0</td>\n",
       "      <td>1</td>\n",
       "      <td>within a few hours</td>\n",
       "      <td>1.0</td>\n",
       "      <td>1</td>\n",
       "      <td>t</td>\n",
       "      <td>t</td>\n",
       "      <td>t</td>\n",
       "    </tr>\n",
       "    <tr>\n",
       "      <th>4</th>\n",
       "      <td>140</td>\n",
       "      <td>99</td>\n",
       "      <td>30</td>\n",
       "      <td>250</td>\n",
       "      <td>65</td>\n",
       "      <td>Wallingford</td>\n",
       "      <td>House</td>\n",
       "      <td>Entire home/apt</td>\n",
       "      <td>2</td>\n",
       "      <td>1.0</td>\n",
       "      <td>1</td>\n",
       "      <td>within an hour</td>\n",
       "      <td>1.0</td>\n",
       "      <td>1</td>\n",
       "      <td>t</td>\n",
       "      <td>t</td>\n",
       "      <td>t</td>\n",
       "    </tr>\n",
       "  </tbody>\n",
       "</table>\n",
       "</div>"
      ],
      "text/plain": [
       "   price  review_scores_rating  number_of_reviews  security_deposit  \\\n",
       "0    300                   100                 24               500   \n",
       "1    149                    96                 11               300   \n",
       "2     95                    95                 79               150   \n",
       "3    105                   100                 13               500   \n",
       "4    140                    99                 30               250   \n",
       "\n",
       "   cleaning_fee neighborhood property_type        room_type  accommodates  \\\n",
       "0            95  Wallingford         House  Entire home/apt             5   \n",
       "1           105  Wallingford     Apartment  Entire home/apt             6   \n",
       "2            40  Wallingford     Apartment  Entire home/apt             3   \n",
       "3            50  Wallingford         House     Private room             2   \n",
       "4            65  Wallingford         House  Entire home/apt             2   \n",
       "\n",
       "   bathrooms  beds  host_response_time  host_response_rate  \\\n",
       "0        1.5     3  within a few hours                 1.0   \n",
       "1        1.0     3      within an hour                 1.0   \n",
       "2        1.0     2      within an hour                 1.0   \n",
       "3        2.0     1  within a few hours                 1.0   \n",
       "4        1.0     1      within an hour                 1.0   \n",
       "\n",
       "   host_acceptance_rate host_is_superhost host_has_profile_pic  \\\n",
       "0                     1                 t                    t   \n",
       "1                     1                 f                    t   \n",
       "2                     1                 f                    t   \n",
       "3                     1                 t                    t   \n",
       "4                     1                 t                    t   \n",
       "\n",
       "  host_identity_verified  \n",
       "0                      t  \n",
       "1                      t  \n",
       "2                      t  \n",
       "3                      t  \n",
       "4                      t  "
      ]
     },
     "execution_count": 41,
     "metadata": {},
     "output_type": "execute_result"
    }
   ],
   "source": [
    "df=pd.read_csv('seattle_airbnb_listings_cleaned.csv')\n",
    "df.head()"
   ]
  },
  {
   "cell_type": "code",
   "execution_count": 42,
   "metadata": {},
   "outputs": [
    {
     "data": {
      "text/plain": [
       "(339, 17)"
      ]
     },
     "execution_count": 42,
     "metadata": {},
     "output_type": "execute_result"
    }
   ],
   "source": [
    "df.shape"
   ]
  },
  {
   "cell_type": "markdown",
   "metadata": {},
   "source": [
    "## 2. Associations with Super Host Status\n",
    "\n",
    "In this analysis I will be building several logistic regression models. Each of these logistic regression models will predict the likelihood that a Seattle Airbnb host is a superhost.\n",
    "\n",
    "To get a sense as to what explanatory variables to use in this model I will analyze the relationships between the **host_is_superhost** categorical variable and some of the other variables in the dataset.\n",
    "\n",
    "### 2.1. Side-by-side boxplots\n",
    "\n",
    "#### 2.1.1. Super Host Status and Price\n",
    "\n",
    "The side-by-side boxplots is used to visualize the relationship between a host's listing price and their superhost status."
   ]
  },
  {
   "cell_type": "code",
   "execution_count": 43,
   "metadata": {},
   "outputs": [
    {
     "data": {
      "image/png": "[encoded data removed]",
      "text/plain": [
       "<Figure size 432x288 with 1 Axes>"
      ]
     },
     "metadata": {
      "needs_background": "light"
     },
     "output_type": "display_data"
    }
   ],
   "source": [
    "sns.boxplot(x='host_is_superhost', y='price', data=df)\n",
    "plt.show()"
   ]
  },
  {
   "cell_type": "markdown",
   "metadata": {},
   "source": [
    "#### 2.1.2. Super Host Status and Review Score's Rating\n",
    "\n",
    "The side-by-side boxplots is used to visualize the relationship between a host's review score rating and their superhost status."
   ]
  },
  {
   "cell_type": "code",
   "execution_count": 44,
   "metadata": {},
   "outputs": [
    {
     "data": {
      "image/png": "[encoded data removed]",
      "text/plain": [
       "<Figure size 432x288 with 1 Axes>"
      ]
     },
     "metadata": {
      "needs_background": "light"
     },
     "output_type": "display_data"
    }
   ],
   "source": [
    "sns.boxplot(x='host_is_superhost', y='review_scores_rating', data=df)\n",
    "plt.show()"
   ]
  },
  {
   "cell_type": "markdown",
   "metadata": {},
   "source": [
    "#### 2.1.3. Super Host Status and Number of Reviews\n",
    "\n",
    "The side-by-side boxplots is used to visualize the relationship between the number of reviews for a hosts listing and their superhost status."
   ]
  },
  {
   "cell_type": "code",
   "execution_count": 45,
   "metadata": {},
   "outputs": [
    {
     "data": {
      "image/png": "[encoded data removed]",
      "text/plain": [
       "<Figure size 432x288 with 1 Axes>"
      ]
     },
     "metadata": {
      "needs_background": "light"
     },
     "output_type": "display_data"
    }
   ],
   "source": [
    "sns.boxplot(x='host_is_superhost', y='number_of_reviews', data=df)\n",
    "plt.show()"
   ]
  },
  {
   "cell_type": "markdown",
   "metadata": {},
   "source": [
    "### 2.2. Barplots\n",
    "\n",
    "#### 2.2.1. Super Host Status and Neighborhood\n",
    "\n",
    "The table below displays the following percentages:\n",
    "* the percentage of Belltown property owners that are superhosts\n",
    "* the percentage of Belltown property owners that are not superhosts\n",
    "* the percentage of Broadway property owners that are superhosts\n",
    "* the percentage of Broadway property owners that are not superhosts\n",
    "* the percentage of Minor property owners that are superhosts\n",
    "* the percentage of Minor property owners that are not superhosts\n",
    "* the percentage of Fremont property owners that are superhosts\n",
    "* the percentage of Fremont property owners that are not superhosts\n",
    "* the percentage of Wallingford property owners that are superhosts\n",
    "* the percentage of Wallingford property owners that are not superhosts"
   ]
  },
  {
   "cell_type": "code",
   "execution_count": 46,
   "metadata": {},
   "outputs": [
    {
     "data": {
      "text/html": [
       "<div>\n",
       "<style scoped>\n",
       "    .dataframe tbody tr th:only-of-type {\n",
       "        vertical-align: middle;\n",
       "    }\n",
       "\n",
       "    .dataframe tbody tr th {\n",
       "        vertical-align: top;\n",
       "    }\n",
       "\n",
       "    .dataframe thead th {\n",
       "        text-align: right;\n",
       "    }\n",
       "</style>\n",
       "<table border=\"1\" class=\"dataframe\">\n",
       "  <thead>\n",
       "    <tr style=\"text-align: right;\">\n",
       "      <th>host_is_superhost</th>\n",
       "      <th>f</th>\n",
       "      <th>t</th>\n",
       "    </tr>\n",
       "    <tr>\n",
       "      <th>neighborhood</th>\n",
       "      <th></th>\n",
       "      <th></th>\n",
       "    </tr>\n",
       "  </thead>\n",
       "  <tbody>\n",
       "    <tr>\n",
       "      <th>Belltown</th>\n",
       "      <td>0.526316</td>\n",
       "      <td>0.473684</td>\n",
       "    </tr>\n",
       "    <tr>\n",
       "      <th>Broadway</th>\n",
       "      <td>0.808333</td>\n",
       "      <td>0.191667</td>\n",
       "    </tr>\n",
       "    <tr>\n",
       "      <th>Fremont</th>\n",
       "      <td>0.765957</td>\n",
       "      <td>0.234043</td>\n",
       "    </tr>\n",
       "    <tr>\n",
       "      <th>Minor</th>\n",
       "      <td>0.551020</td>\n",
       "      <td>0.448980</td>\n",
       "    </tr>\n",
       "    <tr>\n",
       "      <th>Wallingford</th>\n",
       "      <td>0.727273</td>\n",
       "      <td>0.272727</td>\n",
       "    </tr>\n",
       "  </tbody>\n",
       "</table>\n",
       "</div>"
      ],
      "text/plain": [
       "host_is_superhost         f         t\n",
       "neighborhood                         \n",
       "Belltown           0.526316  0.473684\n",
       "Broadway           0.808333  0.191667\n",
       "Fremont            0.765957  0.234043\n",
       "Minor              0.551020  0.448980\n",
       "Wallingford        0.727273  0.272727"
      ]
     },
     "execution_count": 46,
     "metadata": {},
     "output_type": "execute_result"
    }
   ],
   "source": [
    "tmp=pd.crosstab(df['neighborhood'],df['host_is_superhost'], normalize='index')\n",
    "tmp"
   ]
  },
  {
   "cell_type": "markdown",
   "metadata": {},
   "source": [
    "The barplot is used to visualize the relationship between a host's superhost status and the neighborhood that their property is located in. The barplot also displays the percentages from the above table."
   ]
  },
  {
   "cell_type": "code",
   "execution_count": 47,
   "metadata": {},
   "outputs": [
    {
     "data": {
      "image/png": "[encoded data removed]",
      "text/plain": [
       "<Figure size 432x288 with 1 Axes>"
      ]
     },
     "metadata": {
      "needs_background": "light"
     },
     "output_type": "display_data"
    }
   ],
   "source": [
    "tmp.plot.bar()\n",
    "plt.title('Relationship between Neighborhood and Superhost Status')\n",
    "plt.xlabel('Relative Frequency')\n",
    "plt.show()"
   ]
  },
  {
   "cell_type": "markdown",
   "metadata": {},
   "source": [
    "#### 2.2.2 Interpretation\n",
    "\n",
    "There appears to be a relationship between the superhost status of a host and the neighborhood that their property is located in this dataset. For instance the percentage of superhosts for each of the 5 neigbhorhoods are very different. Therefore, there is an an association in this dataset. In addition, the Belltown neighborshoods have the highest percentage of their hosts as superhosts (47%)."
   ]
  },
  {
   "cell_type": "markdown",
   "metadata": {},
   "source": [
    "#### 2.2.3. Super Host Status and Property Type\n",
    "\n",
    "The table below displays the following percentages:\n",
    "* the percentage of house property owners that are superhosts\n",
    "* the percentage of house property owners that are not superhosts\n",
    "* the percentage of apartment property owners that are superhosts\n",
    "* the percentage of apartment property owners that are not superhosts"
   ]
  },
  {
   "cell_type": "code",
   "execution_count": 48,
   "metadata": {},
   "outputs": [
    {
     "data": {
      "text/html": [
       "<div>\n",
       "<style scoped>\n",
       "    .dataframe tbody tr th:only-of-type {\n",
       "        vertical-align: middle;\n",
       "    }\n",
       "\n",
       "    .dataframe tbody tr th {\n",
       "        vertical-align: top;\n",
       "    }\n",
       "\n",
       "    .dataframe thead th {\n",
       "        text-align: right;\n",
       "    }\n",
       "</style>\n",
       "<table border=\"1\" class=\"dataframe\">\n",
       "  <thead>\n",
       "    <tr style=\"text-align: right;\">\n",
       "      <th>host_is_superhost</th>\n",
       "      <th>f</th>\n",
       "      <th>t</th>\n",
       "    </tr>\n",
       "    <tr>\n",
       "      <th>property_type</th>\n",
       "      <th></th>\n",
       "      <th></th>\n",
       "    </tr>\n",
       "  </thead>\n",
       "  <tbody>\n",
       "    <tr>\n",
       "      <th>Apartment</th>\n",
       "      <td>0.675127</td>\n",
       "      <td>0.324873</td>\n",
       "    </tr>\n",
       "    <tr>\n",
       "      <th>House</th>\n",
       "      <td>0.739437</td>\n",
       "      <td>0.260563</td>\n",
       "    </tr>\n",
       "  </tbody>\n",
       "</table>\n",
       "</div>"
      ],
      "text/plain": [
       "host_is_superhost         f         t\n",
       "property_type                        \n",
       "Apartment          0.675127  0.324873\n",
       "House              0.739437  0.260563"
      ]
     },
     "execution_count": 48,
     "metadata": {},
     "output_type": "execute_result"
    }
   ],
   "source": [
    "tmp=pd.crosstab(df['property_type'],df['host_is_superhost'], normalize='index')\n",
    "tmp"
   ]
  },
  {
   "cell_type": "markdown",
   "metadata": {},
   "source": [
    "The barplot is used to visualize the relationship between a host's superhost status and the property type. The barplot also displays the percentages from the above table."
   ]
  },
  {
   "cell_type": "code",
   "execution_count": 49,
   "metadata": {},
   "outputs": [
    {
     "data": {
      "image/png": "[encoded data removed]",
      "text/plain": [
       "<Figure size 432x288 with 1 Axes>"
      ]
     },
     "metadata": {
      "needs_background": "light"
     },
     "output_type": "display_data"
    }
   ],
   "source": [
    "tmp.plot.bar()\n",
    "plt.title('Relationship between Property Type and Superhost Status')\n",
    "plt.xlabel('Relative Frequency')\n",
    "plt.show()"
   ]
  },
  {
   "cell_type": "markdown",
   "metadata": {},
   "source": [
    "#### 2.2.4 Interpretation\n",
    "\n",
    "The neighborhood variable has a stronger association with superhost status. The likelihood that given neighborhood has a superhost listing is much more different across the five different neighborhoods."
   ]
  },
  {
   "cell_type": "markdown",
   "metadata": {},
   "source": [
    "## 3. Fitting and Interpreting Logistic Regression Model\n",
    "\n",
    "The first step is to fit a logistic regression model that will predict the probability that a given Airbnb listing host **is a superhost** ie. **(y=1)**, given the following explanatory variables:\n",
    "* listing price\n",
    "* review scores rating\n",
    "* number of reviews\n",
    "* neighborhod\n",
    "* property type\n",
    "\n",
    "### 3.1. Fitting the model"
   ]
  },
  {
   "cell_type": "code",
   "execution_count": 50,
   "metadata": {},
   "outputs": [
    {
     "data": {
      "text/html": [
       "<div>\n",
       "<style scoped>\n",
       "    .dataframe tbody tr th:only-of-type {\n",
       "        vertical-align: middle;\n",
       "    }\n",
       "\n",
       "    .dataframe tbody tr th {\n",
       "        vertical-align: top;\n",
       "    }\n",
       "\n",
       "    .dataframe thead th {\n",
       "        text-align: right;\n",
       "    }\n",
       "</style>\n",
       "<table border=\"1\" class=\"dataframe\">\n",
       "  <thead>\n",
       "    <tr style=\"text-align: right;\">\n",
       "      <th></th>\n",
       "      <th>price</th>\n",
       "      <th>review_scores_rating</th>\n",
       "      <th>number_of_reviews</th>\n",
       "      <th>security_deposit</th>\n",
       "      <th>cleaning_fee</th>\n",
       "      <th>neighborhood</th>\n",
       "      <th>property_type</th>\n",
       "      <th>room_type</th>\n",
       "      <th>accommodates</th>\n",
       "      <th>bathrooms</th>\n",
       "      <th>beds</th>\n",
       "      <th>host_response_time</th>\n",
       "      <th>host_response_rate</th>\n",
       "      <th>host_acceptance_rate</th>\n",
       "      <th>host_is_superhost</th>\n",
       "      <th>host_has_profile_pic</th>\n",
       "      <th>host_identity_verified</th>\n",
       "      <th>y</th>\n",
       "    </tr>\n",
       "  </thead>\n",
       "  <tbody>\n",
       "    <tr>\n",
       "      <th>0</th>\n",
       "      <td>300</td>\n",
       "      <td>100</td>\n",
       "      <td>24</td>\n",
       "      <td>500</td>\n",
       "      <td>95</td>\n",
       "      <td>Wallingford</td>\n",
       "      <td>House</td>\n",
       "      <td>Entire home/apt</td>\n",
       "      <td>5</td>\n",
       "      <td>1.5</td>\n",
       "      <td>3</td>\n",
       "      <td>within a few hours</td>\n",
       "      <td>1.0</td>\n",
       "      <td>1</td>\n",
       "      <td>t</td>\n",
       "      <td>t</td>\n",
       "      <td>t</td>\n",
       "      <td>1</td>\n",
       "    </tr>\n",
       "    <tr>\n",
       "      <th>1</th>\n",
       "      <td>149</td>\n",
       "      <td>96</td>\n",
       "      <td>11</td>\n",
       "      <td>300</td>\n",
       "      <td>105</td>\n",
       "      <td>Wallingford</td>\n",
       "      <td>Apartment</td>\n",
       "      <td>Entire home/apt</td>\n",
       "      <td>6</td>\n",
       "      <td>1.0</td>\n",
       "      <td>3</td>\n",
       "      <td>within an hour</td>\n",
       "      <td>1.0</td>\n",
       "      <td>1</td>\n",
       "      <td>f</td>\n",
       "      <td>t</td>\n",
       "      <td>t</td>\n",
       "      <td>0</td>\n",
       "    </tr>\n",
       "    <tr>\n",
       "      <th>2</th>\n",
       "      <td>95</td>\n",
       "      <td>95</td>\n",
       "      <td>79</td>\n",
       "      <td>150</td>\n",
       "      <td>40</td>\n",
       "      <td>Wallingford</td>\n",
       "      <td>Apartment</td>\n",
       "      <td>Entire home/apt</td>\n",
       "      <td>3</td>\n",
       "      <td>1.0</td>\n",
       "      <td>2</td>\n",
       "      <td>within an hour</td>\n",
       "      <td>1.0</td>\n",
       "      <td>1</td>\n",
       "      <td>f</td>\n",
       "      <td>t</td>\n",
       "      <td>t</td>\n",
       "      <td>0</td>\n",
       "    </tr>\n",
       "    <tr>\n",
       "      <th>3</th>\n",
       "      <td>105</td>\n",
       "      <td>100</td>\n",
       "      <td>13</td>\n",
       "      <td>500</td>\n",
       "      <td>50</td>\n",
       "      <td>Wallingford</td>\n",
       "      <td>House</td>\n",
       "      <td>Private room</td>\n",
       "      <td>2</td>\n",
       "      <td>2.0</td>\n",
       "      <td>1</td>\n",
       "      <td>within a few hours</td>\n",
       "      <td>1.0</td>\n",
       "      <td>1</td>\n",
       "      <td>t</td>\n",
       "      <td>t</td>\n",
       "      <td>t</td>\n",
       "      <td>1</td>\n",
       "    </tr>\n",
       "    <tr>\n",
       "      <th>4</th>\n",
       "      <td>140</td>\n",
       "      <td>99</td>\n",
       "      <td>30</td>\n",
       "      <td>250</td>\n",
       "      <td>65</td>\n",
       "      <td>Wallingford</td>\n",
       "      <td>House</td>\n",
       "      <td>Entire home/apt</td>\n",
       "      <td>2</td>\n",
       "      <td>1.0</td>\n",
       "      <td>1</td>\n",
       "      <td>within an hour</td>\n",
       "      <td>1.0</td>\n",
       "      <td>1</td>\n",
       "      <td>t</td>\n",
       "      <td>t</td>\n",
       "      <td>t</td>\n",
       "      <td>1</td>\n",
       "    </tr>\n",
       "  </tbody>\n",
       "</table>\n",
       "</div>"
      ],
      "text/plain": [
       "   price  review_scores_rating  number_of_reviews  security_deposit  \\\n",
       "0    300                   100                 24               500   \n",
       "1    149                    96                 11               300   \n",
       "2     95                    95                 79               150   \n",
       "3    105                   100                 13               500   \n",
       "4    140                    99                 30               250   \n",
       "\n",
       "   cleaning_fee neighborhood property_type        room_type  accommodates  \\\n",
       "0            95  Wallingford         House  Entire home/apt             5   \n",
       "1           105  Wallingford     Apartment  Entire home/apt             6   \n",
       "2            40  Wallingford     Apartment  Entire home/apt             3   \n",
       "3            50  Wallingford         House     Private room             2   \n",
       "4            65  Wallingford         House  Entire home/apt             2   \n",
       "\n",
       "   bathrooms  beds  host_response_time  host_response_rate  \\\n",
       "0        1.5     3  within a few hours                 1.0   \n",
       "1        1.0     3      within an hour                 1.0   \n",
       "2        1.0     2      within an hour                 1.0   \n",
       "3        2.0     1  within a few hours                 1.0   \n",
       "4        1.0     1      within an hour                 1.0   \n",
       "\n",
       "   host_acceptance_rate host_is_superhost host_has_profile_pic  \\\n",
       "0                     1                 t                    t   \n",
       "1                     1                 f                    t   \n",
       "2                     1                 f                    t   \n",
       "3                     1                 t                    t   \n",
       "4                     1                 t                    t   \n",
       "\n",
       "  host_identity_verified  y  \n",
       "0                      t  1  \n",
       "1                      t  0  \n",
       "2                      t  0  \n",
       "3                      t  1  \n",
       "4                      t  1  "
      ]
     },
     "execution_count": 50,
     "metadata": {},
     "output_type": "execute_result"
    }
   ],
   "source": [
    "df['y']=df['host_is_superhost'].map({'t': 1, 'f': 0})\n",
    "df.head()"
   ]
  },
  {
   "cell_type": "code",
   "execution_count": 51,
   "metadata": {},
   "outputs": [
    {
     "name": "stdout",
     "output_type": "stream",
     "text": [
      "Optimization terminated successfully.\n",
      "         Current function value: 0.490114\n",
      "         Iterations 8\n"
     ]
    },
    {
     "data": {
      "text/html": [
       "<table class=\"simpletable\">\n",
       "<caption>Logit Regression Results</caption>\n",
       "<tr>\n",
       "  <th>Dep. Variable:</th>           <td>y</td>        <th>  No. Observations:  </th>  <td>   339</td>  \n",
       "</tr>\n",
       "<tr>\n",
       "  <th>Model:</th>                 <td>Logit</td>      <th>  Df Residuals:      </th>  <td>   330</td>  \n",
       "</tr>\n",
       "<tr>\n",
       "  <th>Method:</th>                 <td>MLE</td>       <th>  Df Model:          </th>  <td>     8</td>  \n",
       "</tr>\n",
       "<tr>\n",
       "  <th>Date:</th>            <td>Mon, 12 Sep 2022</td> <th>  Pseudo R-squ.:     </th>  <td>0.1954</td>  \n",
       "</tr>\n",
       "<tr>\n",
       "  <th>Time:</th>                <td>17:40:50</td>     <th>  Log-Likelihood:    </th> <td> -166.15</td> \n",
       "</tr>\n",
       "<tr>\n",
       "  <th>converged:</th>             <td>True</td>       <th>  LL-Null:           </th> <td> -206.49</td> \n",
       "</tr>\n",
       "<tr>\n",
       "  <th>Covariance Type:</th>     <td>nonrobust</td>    <th>  LLR p-value:       </th> <td>3.574e-14</td>\n",
       "</tr>\n",
       "</table>\n",
       "<table class=\"simpletable\">\n",
       "<tr>\n",
       "               <td></td>                  <th>coef</th>     <th>std err</th>      <th>z</th>      <th>P>|z|</th>  <th>[0.025</th>    <th>0.975]</th>  \n",
       "</tr>\n",
       "<tr>\n",
       "  <th>Intercept</th>                   <td>  -27.8074</td> <td>    5.148</td> <td>   -5.402</td> <td> 0.000</td> <td>  -37.896</td> <td>  -17.718</td>\n",
       "</tr>\n",
       "<tr>\n",
       "  <th>neighborhood[T.Broadway]</th>    <td>   -1.1046</td> <td>    0.393</td> <td>   -2.813</td> <td> 0.005</td> <td>   -1.874</td> <td>   -0.335</td>\n",
       "</tr>\n",
       "<tr>\n",
       "  <th>neighborhood[T.Fremont]</th>     <td>   -0.7215</td> <td>    0.492</td> <td>   -1.467</td> <td> 0.142</td> <td>   -1.685</td> <td>    0.242</td>\n",
       "</tr>\n",
       "<tr>\n",
       "  <th>neighborhood[T.Minor]</th>       <td>    0.0272</td> <td>    0.490</td> <td>    0.056</td> <td> 0.956</td> <td>   -0.933</td> <td>    0.987</td>\n",
       "</tr>\n",
       "<tr>\n",
       "  <th>neighborhood[T.Wallingford]</th> <td>   -0.4037</td> <td>    0.472</td> <td>   -0.855</td> <td> 0.392</td> <td>   -1.329</td> <td>    0.521</td>\n",
       "</tr>\n",
       "<tr>\n",
       "  <th>property_type[T.House]</th>      <td>   -0.3405</td> <td>    0.338</td> <td>   -1.009</td> <td> 0.313</td> <td>   -1.002</td> <td>    0.321</td>\n",
       "</tr>\n",
       "<tr>\n",
       "  <th>price</th>                       <td>    0.0013</td> <td>    0.001</td> <td>    0.924</td> <td> 0.356</td> <td>   -0.001</td> <td>    0.004</td>\n",
       "</tr>\n",
       "<tr>\n",
       "  <th>review_scores_rating</th>        <td>    0.2792</td> <td>    0.052</td> <td>    5.333</td> <td> 0.000</td> <td>    0.177</td> <td>    0.382</td>\n",
       "</tr>\n",
       "<tr>\n",
       "  <th>number_of_reviews</th>           <td>    0.0182</td> <td>    0.004</td> <td>    4.470</td> <td> 0.000</td> <td>    0.010</td> <td>    0.026</td>\n",
       "</tr>\n",
       "</table>"
      ],
      "text/plain": [
       "<class 'statsmodels.iolib.summary.Summary'>\n",
       "\"\"\"\n",
       "                           Logit Regression Results                           \n",
       "==============================================================================\n",
       "Dep. Variable:                      y   No. Observations:                  339\n",
       "Model:                          Logit   Df Residuals:                      330\n",
       "Method:                           MLE   Df Model:                            8\n",
       "Date:                Mon, 12 Sep 2022   Pseudo R-squ.:                  0.1954\n",
       "Time:                        17:40:50   Log-Likelihood:                -166.15\n",
       "converged:                       True   LL-Null:                       -206.49\n",
       "Covariance Type:            nonrobust   LLR p-value:                 3.574e-14\n",
       "===============================================================================================\n",
       "                                  coef    std err          z      P>|z|      [0.025      0.975]\n",
       "-----------------------------------------------------------------------------------------------\n",
       "Intercept                     -27.8074      5.148     -5.402      0.000     -37.896     -17.718\n",
       "neighborhood[T.Broadway]       -1.1046      0.393     -2.813      0.005      -1.874      -0.335\n",
       "neighborhood[T.Fremont]        -0.7215      0.492     -1.467      0.142      -1.685       0.242\n",
       "neighborhood[T.Minor]           0.0272      0.490      0.056      0.956      -0.933       0.987\n",
       "neighborhood[T.Wallingford]    -0.4037      0.472     -0.855      0.392      -1.329       0.521\n",
       "property_type[T.House]         -0.3405      0.338     -1.009      0.313      -1.002       0.321\n",
       "price                           0.0013      0.001      0.924      0.356      -0.001       0.004\n",
       "review_scores_rating            0.2792      0.052      5.333      0.000       0.177       0.382\n",
       "number_of_reviews               0.0182      0.004      4.470      0.000       0.010       0.026\n",
       "===============================================================================================\n",
       "\"\"\""
      ]
     },
     "execution_count": 51,
     "metadata": {},
     "output_type": "execute_result"
    }
   ],
   "source": [
    "mod1=smf.logit('y~price+review_scores_rating+number_of_reviews+neighborhood+property_type', data=df).fit()\n",
    "mod1.summary()"
   ]
  },
  {
   "cell_type": "markdown",
   "metadata": {},
   "source": [
    "### 3.2. Logistic Regression Model Output"
   ]
  },
  {
   "cell_type": "markdown",
   "metadata": {},
   "source": [
    "$ln(\\frac{\\hat{p}}{1-\\hat{p}}) = -27.8074 -1.1046neighborhood[Broadway] -0.7215neighborhood[Fremont] +0.0272neighborhood[Minor] -0.4037neighborhood[Wallingford] -0.3405propertytype[house] +0.0013price+ 0.2792reviewscoresrating+ 0.0182numberofreviews$"
   ]
  },
  {
   "cell_type": "markdown",
   "metadata": {},
   "source": [
    "### 3.3. Intercept Interpretation\n",
    "\n",
    "The following calculation: $e^{\\hat{\\beta}_0}$"
   ]
  },
  {
   "cell_type": "code",
   "execution_count": 52,
   "metadata": {},
   "outputs": [
    {
     "data": {
      "text/plain": [
       "8.383003045266744e-13"
      ]
     },
     "execution_count": 52,
     "metadata": {},
     "output_type": "execute_result"
    }
   ],
   "source": [
    "np.exp(-27.8074)"
   ]
  },
  {
   "cell_type": "markdown",
   "metadata": {},
   "source": [
    "The **odds** that a host with a listing in Belltown that is an apartment that costs 0 dollars, and has a review score of 0 and 0 reviews is **a superhost** is expected to be $8.383\\times 10^{-13}$, on average.\n",
    "* the odds that this person is a superhost is $8.383\\times 10^{-13}$ to 1.\n",
    "* the odds that this person is a superhost is 8383 to 10,000,000,000,000,000"
   ]
  },
  {
   "cell_type": "markdown",
   "metadata": {},
   "source": [
    "### 3.4. Numerical Explanatory Variable Slope Interpretation\n",
    "\n",
    "The following calculation: $e^{\\hat{\\beta}_i}$"
   ]
  },
  {
   "cell_type": "code",
   "execution_count": 53,
   "metadata": {},
   "outputs": [
    {
     "data": {
      "text/plain": [
       "1.0013008453662857"
      ]
     },
     "execution_count": 53,
     "metadata": {},
     "output_type": "execute_result"
    }
   ],
   "source": [
    "np.exp(0.0013)"
   ]
  },
  {
   "cell_type": "markdown",
   "metadata": {},
   "source": [
    "All else held equal, if we were to increase the listing price of an Airbnb by 1 dollar, then we would expect the odds of a host being a superhost to increase by a multiple of 1.0013, on average."
   ]
  },
  {
   "cell_type": "markdown",
   "metadata": {},
   "source": [
    "### 3.5. Indicator Variable Slope Interpretation\n",
    "\n",
    "$\\hat{\\beta}_j$ is the slope that corresponds to the property_type[HOUSE] indicator variable. The following calculation: $e^{\\hat{\\beta}_j}$"
   ]
  },
  {
   "cell_type": "code",
   "execution_count": 54,
   "metadata": {},
   "outputs": [
    {
     "data": {
      "text/plain": [
       "0.711414526557692"
      ]
     },
     "execution_count": 54,
     "metadata": {},
     "output_type": "execute_result"
    }
   ],
   "source": [
    "np.exp(-.3405)"
   ]
  },
  {
   "cell_type": "markdown",
   "metadata": {},
   "source": [
    "All else held equal, we would expect the odds that the host of a house listing is a superhost to be lower by a factor of 0.7114 than the odds that the host of an apartment listing are a superhost, on average."
   ]
  },
  {
   "cell_type": "markdown",
   "metadata": {},
   "source": [
    "## 4.Conducting Inference on the Slopes of the Logistic Regression Model\n",
    "\n",
    "We would like to conduct inference on the **number of reviews slope** in the population logistic regression model that corresponds to our model.  We would also like to conduct inference on the **odds multiplier for number of reviews** in the population logistic regression model that corresponds to our model.\n"
   ]
  },
  {
   "cell_type": "markdown",
   "metadata": {},
   "source": [
    "### 4.1. Conditions for Inference\n",
    "\n",
    "Conditions for conducting inference on the logistic regression population slopes below."
   ]
  },
  {
   "cell_type": "markdown",
   "metadata": {},
   "source": [
    "#### <u>Condition 1</u>: Independence of Observations Condition\n",
    "\n",
    "a. [MET] The sample of Airbnb listings is randomly sampled from the population of ALL Seattle house/apartment Airbnb listings from the top 5 neighborhoods in January 2016.\n",
    "\n",
    "b. [MET] $n=339<10$% of the population of ALL house/apartment Seattle Airbnb listings from the top 5 neighborhoods in January 2016.\n",
    "\n",
    "This condition is met because (a) and (b) are met."
   ]
  },
  {
   "cell_type": "markdown",
   "metadata": {},
   "source": [
    "#### <u>Condition 2</u>: Linearity Condition\n",
    "\n",
    "We have 3 numerical explanatory variables. So let's fit a logistic regression curve for each numerical explanatory variable and our 0/1 response variable y.\n",
    "\n",
    "We do see a *slight* S-Shape for the price and number_of_reviews variables. But we do not see an S-shape for the review_scores_rating.\n",
    "\n",
    "Therefore, because we do not see S-shapes for the simple logistic regression curves for all 3 numerical explanatory variables, then this condition may not be met.\n"
   ]
  },
  {
   "cell_type": "code",
   "execution_count": 55,
   "metadata": {},
   "outputs": [
    {
     "data": {
      "image/png": "[encoded data removed]",
      "text/plain": [
       "<Figure size 360x360 with 1 Axes>"
      ]
     },
     "metadata": {
      "needs_background": "light"
     },
     "output_type": "display_data"
    }
   ],
   "source": [
    "sns.lmplot(x=\"price\", y='y',data=df, logistic=True)\n",
    "plt.ylabel('1=superhost, 0=not_superhost')\n",
    "plt.show()"
   ]
  },
  {
   "cell_type": "code",
   "execution_count": 56,
   "metadata": {},
   "outputs": [
    {
     "data": {
      "image/png": "[encoded data removed]",
      "text/plain": [
       "<Figure size 360x360 with 1 Axes>"
      ]
     },
     "metadata": {
      "needs_background": "light"
     },
     "output_type": "display_data"
    }
   ],
   "source": [
    "sns.lmplot(x=\"review_scores_rating\", y='y',data=df, logistic=True)\n",
    "plt.ylabel('1=superhost, 0=not_superhost')\n",
    "plt.show()"
   ]
  },
  {
   "cell_type": "code",
   "execution_count": 57,
   "metadata": {},
   "outputs": [
    {
     "data": {
      "image/png": "[encoded data removed]",
      "text/plain": [
       "<Figure size 360x360 with 1 Axes>"
      ]
     },
     "metadata": {
      "needs_background": "light"
     },
     "output_type": "display_data"
    }
   ],
   "source": [
    "sns.lmplot(x=\"number_of_reviews\", y='y',data=df, logistic=True)\n",
    "plt.ylabel('1=superhost, 0=not_superhost')\n",
    "plt.show()"
   ]
  },
  {
   "cell_type": "markdown",
   "metadata": {},
   "source": [
    "#### <u>Condition 3</u>: No Multi-Collinearity Condition\n",
    "\n",
    "We do not see a strong linear relationship between any of the numerical explanatory variables. Thus this condition is met."
   ]
  },
  {
   "cell_type": "code",
   "execution_count": 58,
   "metadata": {},
   "outputs": [
    {
     "data": {
      "image/png": "[encoded data removed]",
      "text/plain": [
       "<Figure size 540x540 with 12 Axes>"
      ]
     },
     "metadata": {
      "needs_background": "light"
     },
     "output_type": "display_data"
    }
   ],
   "source": [
    "sns.pairplot(df[['price', 'review_scores_rating', 'number_of_reviews']])\n",
    "plt.show()"
   ]
  },
  {
   "cell_type": "code",
   "execution_count": 59,
   "metadata": {},
   "outputs": [
    {
     "data": {
      "text/html": [
       "<div>\n",
       "<style scoped>\n",
       "    .dataframe tbody tr th:only-of-type {\n",
       "        vertical-align: middle;\n",
       "    }\n",
       "\n",
       "    .dataframe tbody tr th {\n",
       "        vertical-align: top;\n",
       "    }\n",
       "\n",
       "    .dataframe thead th {\n",
       "        text-align: right;\n",
       "    }\n",
       "</style>\n",
       "<table border=\"1\" class=\"dataframe\">\n",
       "  <thead>\n",
       "    <tr style=\"text-align: right;\">\n",
       "      <th></th>\n",
       "      <th>price</th>\n",
       "      <th>review_scores_rating</th>\n",
       "      <th>number_of_reviews</th>\n",
       "    </tr>\n",
       "  </thead>\n",
       "  <tbody>\n",
       "    <tr>\n",
       "      <th>price</th>\n",
       "      <td>1.000000</td>\n",
       "      <td>0.094255</td>\n",
       "      <td>-0.034023</td>\n",
       "    </tr>\n",
       "    <tr>\n",
       "      <th>review_scores_rating</th>\n",
       "      <td>0.094255</td>\n",
       "      <td>1.000000</td>\n",
       "      <td>0.012705</td>\n",
       "    </tr>\n",
       "    <tr>\n",
       "      <th>number_of_reviews</th>\n",
       "      <td>-0.034023</td>\n",
       "      <td>0.012705</td>\n",
       "      <td>1.000000</td>\n",
       "    </tr>\n",
       "  </tbody>\n",
       "</table>\n",
       "</div>"
      ],
      "text/plain": [
       "                         price  review_scores_rating  number_of_reviews\n",
       "price                 1.000000              0.094255          -0.034023\n",
       "review_scores_rating  0.094255              1.000000           0.012705\n",
       "number_of_reviews    -0.034023              0.012705           1.000000"
      ]
     },
     "execution_count": 59,
     "metadata": {},
     "output_type": "execute_result"
    }
   ],
   "source": [
    "df[['price', 'review_scores_rating', 'number_of_reviews']].corr()"
   ]
  },
  {
   "cell_type": "markdown",
   "metadata": {},
   "source": [
    "### 4.2. 99% Confidence Intervals\n",
    "\n",
    "#### 4.2.1. Confidence Interval for Slope\n",
    "\n",
    "The following is a 99% confidence interval for the **number_of_reviews** slope (ie. a $\\beta_i$) in the population logistic regression model that corresponds to our model."
   ]
  },
  {
   "cell_type": "markdown",
   "metadata": {},
   "source": [
    "Below is the point estimate and the standard error for these values in the table."
   ]
  },
  {
   "cell_type": "code",
   "execution_count": 60,
   "metadata": {},
   "outputs": [
    {
     "data": {
      "text/html": [
       "<table class=\"simpletable\">\n",
       "<caption>Logit Regression Results</caption>\n",
       "<tr>\n",
       "  <th>Dep. Variable:</th>           <td>y</td>        <th>  No. Observations:  </th>  <td>   339</td>  \n",
       "</tr>\n",
       "<tr>\n",
       "  <th>Model:</th>                 <td>Logit</td>      <th>  Df Residuals:      </th>  <td>   330</td>  \n",
       "</tr>\n",
       "<tr>\n",
       "  <th>Method:</th>                 <td>MLE</td>       <th>  Df Model:          </th>  <td>     8</td>  \n",
       "</tr>\n",
       "<tr>\n",
       "  <th>Date:</th>            <td>Mon, 12 Sep 2022</td> <th>  Pseudo R-squ.:     </th>  <td>0.1954</td>  \n",
       "</tr>\n",
       "<tr>\n",
       "  <th>Time:</th>                <td>17:40:57</td>     <th>  Log-Likelihood:    </th> <td> -166.15</td> \n",
       "</tr>\n",
       "<tr>\n",
       "  <th>converged:</th>             <td>True</td>       <th>  LL-Null:           </th> <td> -206.49</td> \n",
       "</tr>\n",
       "<tr>\n",
       "  <th>Covariance Type:</th>     <td>nonrobust</td>    <th>  LLR p-value:       </th> <td>3.574e-14</td>\n",
       "</tr>\n",
       "</table>\n",
       "<table class=\"simpletable\">\n",
       "<tr>\n",
       "               <td></td>                  <th>coef</th>     <th>std err</th>      <th>z</th>      <th>P>|z|</th>  <th>[0.025</th>    <th>0.975]</th>  \n",
       "</tr>\n",
       "<tr>\n",
       "  <th>Intercept</th>                   <td>  -27.8074</td> <td>    5.148</td> <td>   -5.402</td> <td> 0.000</td> <td>  -37.896</td> <td>  -17.718</td>\n",
       "</tr>\n",
       "<tr>\n",
       "  <th>neighborhood[T.Broadway]</th>    <td>   -1.1046</td> <td>    0.393</td> <td>   -2.813</td> <td> 0.005</td> <td>   -1.874</td> <td>   -0.335</td>\n",
       "</tr>\n",
       "<tr>\n",
       "  <th>neighborhood[T.Fremont]</th>     <td>   -0.7215</td> <td>    0.492</td> <td>   -1.467</td> <td> 0.142</td> <td>   -1.685</td> <td>    0.242</td>\n",
       "</tr>\n",
       "<tr>\n",
       "  <th>neighborhood[T.Minor]</th>       <td>    0.0272</td> <td>    0.490</td> <td>    0.056</td> <td> 0.956</td> <td>   -0.933</td> <td>    0.987</td>\n",
       "</tr>\n",
       "<tr>\n",
       "  <th>neighborhood[T.Wallingford]</th> <td>   -0.4037</td> <td>    0.472</td> <td>   -0.855</td> <td> 0.392</td> <td>   -1.329</td> <td>    0.521</td>\n",
       "</tr>\n",
       "<tr>\n",
       "  <th>property_type[T.House]</th>      <td>   -0.3405</td> <td>    0.338</td> <td>   -1.009</td> <td> 0.313</td> <td>   -1.002</td> <td>    0.321</td>\n",
       "</tr>\n",
       "<tr>\n",
       "  <th>price</th>                       <td>    0.0013</td> <td>    0.001</td> <td>    0.924</td> <td> 0.356</td> <td>   -0.001</td> <td>    0.004</td>\n",
       "</tr>\n",
       "<tr>\n",
       "  <th>review_scores_rating</th>        <td>    0.2792</td> <td>    0.052</td> <td>    5.333</td> <td> 0.000</td> <td>    0.177</td> <td>    0.382</td>\n",
       "</tr>\n",
       "<tr>\n",
       "  <th>number_of_reviews</th>           <td>    0.0182</td> <td>    0.004</td> <td>    4.470</td> <td> 0.000</td> <td>    0.010</td> <td>    0.026</td>\n",
       "</tr>\n",
       "</table>"
      ],
      "text/plain": [
       "<class 'statsmodels.iolib.summary.Summary'>\n",
       "\"\"\"\n",
       "                           Logit Regression Results                           \n",
       "==============================================================================\n",
       "Dep. Variable:                      y   No. Observations:                  339\n",
       "Model:                          Logit   Df Residuals:                      330\n",
       "Method:                           MLE   Df Model:                            8\n",
       "Date:                Mon, 12 Sep 2022   Pseudo R-squ.:                  0.1954\n",
       "Time:                        17:40:57   Log-Likelihood:                -166.15\n",
       "converged:                       True   LL-Null:                       -206.49\n",
       "Covariance Type:            nonrobust   LLR p-value:                 3.574e-14\n",
       "===============================================================================================\n",
       "                                  coef    std err          z      P>|z|      [0.025      0.975]\n",
       "-----------------------------------------------------------------------------------------------\n",
       "Intercept                     -27.8074      5.148     -5.402      0.000     -37.896     -17.718\n",
       "neighborhood[T.Broadway]       -1.1046      0.393     -2.813      0.005      -1.874      -0.335\n",
       "neighborhood[T.Fremont]        -0.7215      0.492     -1.467      0.142      -1.685       0.242\n",
       "neighborhood[T.Minor]           0.0272      0.490      0.056      0.956      -0.933       0.987\n",
       "neighborhood[T.Wallingford]    -0.4037      0.472     -0.855      0.392      -1.329       0.521\n",
       "property_type[T.House]         -0.3405      0.338     -1.009      0.313      -1.002       0.321\n",
       "price                           0.0013      0.001      0.924      0.356      -0.001       0.004\n",
       "review_scores_rating            0.2792      0.052      5.333      0.000       0.177       0.382\n",
       "number_of_reviews               0.0182      0.004      4.470      0.000       0.010       0.026\n",
       "===============================================================================================\n",
       "\"\"\""
      ]
     },
     "execution_count": 60,
     "metadata": {},
     "output_type": "execute_result"
    }
   ],
   "source": [
    "mod1.summary()"
   ]
  },
  {
   "cell_type": "code",
   "execution_count": 61,
   "metadata": {},
   "outputs": [],
   "source": [
    "point_estimate = 0.0182\n",
    "standard_error = 0.004"
   ]
  },
  {
   "cell_type": "markdown",
   "metadata": {},
   "source": [
    "Next is the critical value for this confidence interval. This is the positive z-score $z^*$ that encapsulates the confidence level of 0.99 between  $-z^*$ and  $z^*$ under the standard normal curve. "
   ]
  },
  {
   "cell_type": "code",
   "execution_count": 62,
   "metadata": {},
   "outputs": [
    {
     "data": {
      "text/plain": [
       "2.5758293035489004"
      ]
     },
     "execution_count": 62,
     "metadata": {},
     "output_type": "execute_result"
    }
   ],
   "source": [
    "from scipy.stats import norm\n",
    "critical_value=norm.ppf(0.995)\n",
    "critical_value"
   ]
  },
  {
   "cell_type": "code",
   "execution_count": 63,
   "metadata": {},
   "outputs": [
    {
     "name": "stdout",
     "output_type": "stream",
     "text": [
      "0.0078966827858044 0.028503317214195602\n"
     ]
    }
   ],
   "source": [
    "lower_bound = point_estimate - critical_value*standard_error\n",
    "upper_bound = point_estimate + critical_value*standard_error\n",
    "print(lower_bound, upper_bound)"
   ]
  },
  {
   "cell_type": "markdown",
   "metadata": {},
   "source": [
    "#### 4.2.2. Slope Confidence Interval Explanation"
   ]
  },
  {
   "cell_type": "markdown",
   "metadata": {},
   "source": [
    "We are 99% confident that the population slope that corresponds to number_of_reviews in the corresponding population logistic regression model is between 0.0079 and 0.0285."
   ]
  },
  {
   "cell_type": "markdown",
   "metadata": {},
   "source": [
    "#### 4.2.3. Confidence Interval for the Odds Multiplier\n",
    "\n",
    "The following is a 99% confidence interval for the **odds multiplier for number_of_reviews** in the population logistic regression model that corresponds to our model."
   ]
  },
  {
   "cell_type": "markdown",
   "metadata": {},
   "source": [
    "If $\\beta_i$ is the slope for number_of_reviews in the population logistic regression model, then the odds multiplier for number_of_reviews in the population logistic regression model is $e^{\\beta_i}$. Because we know the 99% confidence interval for $\\beta_i$, the confidence interval for $e^{\\beta_i}$ is found by exponentiating the lower and upper bounds of this confidence interval."
   ]
  },
  {
   "cell_type": "code",
   "execution_count": 64,
   "metadata": {},
   "outputs": [
    {
     "name": "stdout",
     "output_type": "stream",
     "text": [
      "1.0079279438172866 1.0289134239550788\n"
     ]
    }
   ],
   "source": [
    "odds_mult_lower_bound = np.exp(lower_bound)\n",
    "odds_mult_upper_bound = np.exp(upper_bound)\n",
    "print(odds_mult_lower_bound, odds_mult_upper_bound)"
   ]
  },
  {
   "cell_type": "markdown",
   "metadata": {},
   "source": [
    "#### 4.2.4. Odds Multiplier Confidence Interval Explanation"
   ]
  },
  {
   "cell_type": "markdown",
   "metadata": {},
   "source": [
    "We are 99% confident that the odds multiplier for number_of_reviews in the corresponding population logistic regression model is between 1.0079 and 1.029."
   ]
  },
  {
   "cell_type": "markdown",
   "metadata": {},
   "source": [
    "### 4.3. Hypothesis Testing for the Population Slope\n",
    "\n",
    "The next step is to determine if there is sufficient evidence to suggest that there is an association between superhost status and the number of reviews that the host's listing has for the hosts of ALL Seattle Airbnb listings from the top 5 neighborhoods.\n",
    "\n",
    "To help us test this association, first we would like to test if we have enough evidence to suggest the slope for number_of_reviews is non-zero in the population model.\n",
    "\n",
    "#### 4.3.1. Hypotheses"
   ]
  },
  {
   "cell_type": "markdown",
   "metadata": {},
   "source": [
    "$H_0: \\beta_7=0$\n",
    "\n",
    "$H_A: \\beta_7\\neq 0$\n",
    "\n",
    "$\\beta_7$ is the slope that corresponds to number_of_reviews in the population model"
   ]
  },
  {
   "cell_type": "markdown",
   "metadata": {},
   "source": [
    "#### 4.3.2. Test Statistic\n",
    "\n",
    "Use the summary output table to calculate the test statistic for this test **by hand**. You can use the summary output table to check your work, but it may be a bit different due to rounding errors."
   ]
  },
  {
   "cell_type": "code",
   "execution_count": 65,
   "metadata": {},
   "outputs": [
    {
     "data": {
      "text/html": [
       "<table class=\"simpletable\">\n",
       "<caption>Logit Regression Results</caption>\n",
       "<tr>\n",
       "  <th>Dep. Variable:</th>           <td>y</td>        <th>  No. Observations:  </th>  <td>   339</td>  \n",
       "</tr>\n",
       "<tr>\n",
       "  <th>Model:</th>                 <td>Logit</td>      <th>  Df Residuals:      </th>  <td>   330</td>  \n",
       "</tr>\n",
       "<tr>\n",
       "  <th>Method:</th>                 <td>MLE</td>       <th>  Df Model:          </th>  <td>     8</td>  \n",
       "</tr>\n",
       "<tr>\n",
       "  <th>Date:</th>            <td>Mon, 12 Sep 2022</td> <th>  Pseudo R-squ.:     </th>  <td>0.1954</td>  \n",
       "</tr>\n",
       "<tr>\n",
       "  <th>Time:</th>                <td>17:40:58</td>     <th>  Log-Likelihood:    </th> <td> -166.15</td> \n",
       "</tr>\n",
       "<tr>\n",
       "  <th>converged:</th>             <td>True</td>       <th>  LL-Null:           </th> <td> -206.49</td> \n",
       "</tr>\n",
       "<tr>\n",
       "  <th>Covariance Type:</th>     <td>nonrobust</td>    <th>  LLR p-value:       </th> <td>3.574e-14</td>\n",
       "</tr>\n",
       "</table>\n",
       "<table class=\"simpletable\">\n",
       "<tr>\n",
       "               <td></td>                  <th>coef</th>     <th>std err</th>      <th>z</th>      <th>P>|z|</th>  <th>[0.025</th>    <th>0.975]</th>  \n",
       "</tr>\n",
       "<tr>\n",
       "  <th>Intercept</th>                   <td>  -27.8074</td> <td>    5.148</td> <td>   -5.402</td> <td> 0.000</td> <td>  -37.896</td> <td>  -17.718</td>\n",
       "</tr>\n",
       "<tr>\n",
       "  <th>neighborhood[T.Broadway]</th>    <td>   -1.1046</td> <td>    0.393</td> <td>   -2.813</td> <td> 0.005</td> <td>   -1.874</td> <td>   -0.335</td>\n",
       "</tr>\n",
       "<tr>\n",
       "  <th>neighborhood[T.Fremont]</th>     <td>   -0.7215</td> <td>    0.492</td> <td>   -1.467</td> <td> 0.142</td> <td>   -1.685</td> <td>    0.242</td>\n",
       "</tr>\n",
       "<tr>\n",
       "  <th>neighborhood[T.Minor]</th>       <td>    0.0272</td> <td>    0.490</td> <td>    0.056</td> <td> 0.956</td> <td>   -0.933</td> <td>    0.987</td>\n",
       "</tr>\n",
       "<tr>\n",
       "  <th>neighborhood[T.Wallingford]</th> <td>   -0.4037</td> <td>    0.472</td> <td>   -0.855</td> <td> 0.392</td> <td>   -1.329</td> <td>    0.521</td>\n",
       "</tr>\n",
       "<tr>\n",
       "  <th>property_type[T.House]</th>      <td>   -0.3405</td> <td>    0.338</td> <td>   -1.009</td> <td> 0.313</td> <td>   -1.002</td> <td>    0.321</td>\n",
       "</tr>\n",
       "<tr>\n",
       "  <th>price</th>                       <td>    0.0013</td> <td>    0.001</td> <td>    0.924</td> <td> 0.356</td> <td>   -0.001</td> <td>    0.004</td>\n",
       "</tr>\n",
       "<tr>\n",
       "  <th>review_scores_rating</th>        <td>    0.2792</td> <td>    0.052</td> <td>    5.333</td> <td> 0.000</td> <td>    0.177</td> <td>    0.382</td>\n",
       "</tr>\n",
       "<tr>\n",
       "  <th>number_of_reviews</th>           <td>    0.0182</td> <td>    0.004</td> <td>    4.470</td> <td> 0.000</td> <td>    0.010</td> <td>    0.026</td>\n",
       "</tr>\n",
       "</table>"
      ],
      "text/plain": [
       "<class 'statsmodels.iolib.summary.Summary'>\n",
       "\"\"\"\n",
       "                           Logit Regression Results                           \n",
       "==============================================================================\n",
       "Dep. Variable:                      y   No. Observations:                  339\n",
       "Model:                          Logit   Df Residuals:                      330\n",
       "Method:                           MLE   Df Model:                            8\n",
       "Date:                Mon, 12 Sep 2022   Pseudo R-squ.:                  0.1954\n",
       "Time:                        17:40:58   Log-Likelihood:                -166.15\n",
       "converged:                       True   LL-Null:                       -206.49\n",
       "Covariance Type:            nonrobust   LLR p-value:                 3.574e-14\n",
       "===============================================================================================\n",
       "                                  coef    std err          z      P>|z|      [0.025      0.975]\n",
       "-----------------------------------------------------------------------------------------------\n",
       "Intercept                     -27.8074      5.148     -5.402      0.000     -37.896     -17.718\n",
       "neighborhood[T.Broadway]       -1.1046      0.393     -2.813      0.005      -1.874      -0.335\n",
       "neighborhood[T.Fremont]        -0.7215      0.492     -1.467      0.142      -1.685       0.242\n",
       "neighborhood[T.Minor]           0.0272      0.490      0.056      0.956      -0.933       0.987\n",
       "neighborhood[T.Wallingford]    -0.4037      0.472     -0.855      0.392      -1.329       0.521\n",
       "property_type[T.House]         -0.3405      0.338     -1.009      0.313      -1.002       0.321\n",
       "price                           0.0013      0.001      0.924      0.356      -0.001       0.004\n",
       "review_scores_rating            0.2792      0.052      5.333      0.000       0.177       0.382\n",
       "number_of_reviews               0.0182      0.004      4.470      0.000       0.010       0.026\n",
       "===============================================================================================\n",
       "\"\"\""
      ]
     },
     "execution_count": 65,
     "metadata": {},
     "output_type": "execute_result"
    }
   ],
   "source": [
    "mod1.summary()"
   ]
  },
  {
   "cell_type": "markdown",
   "metadata": {},
   "source": [
    "The z-statistic for the number_of_reviews slope according to the above summary is 4.47."
   ]
  },
  {
   "cell_type": "code",
   "execution_count": 66,
   "metadata": {},
   "outputs": [],
   "source": [
    "test_statistic = 4.47"
   ]
  },
  {
   "cell_type": "markdown",
   "metadata": {},
   "source": [
    "#### 4.3.3. p-value\n",
    "\n",
    "The p-value calculated manually:"
   ]
  },
  {
   "cell_type": "code",
   "execution_count": 67,
   "metadata": {},
   "outputs": [
    {
     "data": {
      "text/plain": [
       "7.821959720599736e-06"
      ]
     },
     "execution_count": 67,
     "metadata": {},
     "output_type": "execute_result"
    }
   ],
   "source": [
    "pvalue = 2*(1- norm.cdf(np.abs(test_statistic)))\n",
    "pvalue"
   ]
  },
  {
   "cell_type": "markdown",
   "metadata": {},
   "source": [
    "#### 4.3.4. Conclusions with a p-value"
   ]
  },
  {
   "cell_type": "markdown",
   "metadata": {},
   "source": [
    "Because $p-value=7.82\\times 10^{-6} < \\alpha=0.01$, we reject the null hypothesis. Thus there is sufficient evidence to suggest that the slope for review_scores_rating is non-zero in the population logistic regression model."
   ]
  },
  {
   "cell_type": "markdown",
   "metadata": {},
   "source": [
    "#### 4.3.5. Conclusions with a confidence interval"
   ]
  },
  {
   "cell_type": "markdown",
   "metadata": {},
   "source": [
    "Because the null value, $\\beta_7=0$ is not inside the confidence interval for $\\beta_7$, we reject the null hypothesis. Thus there is sufficient evidence to suggest that the slope for number of reviews is non-zero in the population logistic regression model."
   ]
  },
  {
   "cell_type": "markdown",
   "metadata": {},
   "source": [
    "### 4.5. Summarization"
   ]
  },
  {
   "cell_type": "markdown",
   "metadata": {},
   "source": [
    "If $\\beta_7\\neq 0$, then we can say that there is an association between superhost status and the number of reviews that the host's listing has for ALL Seattle Airbnb listings from the top 5 neighborhoods."
   ]
  },
  {
   "cell_type": "markdown",
   "metadata": {},
   "source": [
    "## 5. Model Prediction"
   ]
  },
  {
   "cell_type": "markdown",
   "metadata": {},
   "source": [
    "### 5.1. Log odds prediction\n",
    "\n",
    "Log odds prediction that an Airbnb host of a \\$200/night house in the Belltown neighborhood with 20 reviews and a review scores rating of 95 is **a super host**."
   ]
  },
  {
   "cell_type": "code",
   "execution_count": 68,
   "metadata": {},
   "outputs": [
    {
     "data": {
      "text/plain": [
       "-0.9998999999999975"
      ]
     },
     "execution_count": 68,
     "metadata": {},
     "output_type": "execute_result"
    }
   ],
   "source": [
    "log_odds = -27.8074 -1.1046*0 -0.7215*0 +0.0272*0 -0.4037*0 -0.3405*1 +0.0013*200+ 0.2792*95+ 0.0182*20\n",
    "log_odds"
   ]
  },
  {
   "cell_type": "markdown",
   "metadata": {},
   "source": [
    "### 5.2. Odds prediction\n",
    "\n",
    "Log odds prediction that an Airbnb host of a \\$200/night house in the Belltown neighborhood with 20 reviews and a review scores rating of 95 is **a super host**."
   ]
  },
  {
   "cell_type": "code",
   "execution_count": 69,
   "metadata": {},
   "outputs": [
    {
     "data": {
      "text/plain": [
       "0.3679162309550189"
      ]
     },
     "execution_count": 69,
     "metadata": {},
     "output_type": "execute_result"
    }
   ],
   "source": [
    "odds = np.exp(log_odds)\n",
    "odds"
   ]
  },
  {
   "cell_type": "markdown",
   "metadata": {},
   "source": [
    "The odds that an Airbnb host of a \\$200/night house in the Belltown neighborhood with 20 reviews and a review scores rating of 95 is **a super host**.* are 37 to 100."
   ]
  },
  {
   "cell_type": "markdown",
   "metadata": {},
   "source": [
    "### 5.3. Probability Prediction\n",
    "\n",
    "The **probability** that an Airbnb host of a \\$200/night house in the Belltown neighborhood with 20 reviews and a review scores rating of 95 is **a super host**."
   ]
  },
  {
   "cell_type": "markdown",
   "metadata": {},
   "source": [
    "If we use the \"numerical odds\" that the host is a superhost (ie. $odds=0.3679$), then we can use the equation\n",
    "\n",
    "$p=\\frac{odds}{1+odds}=\\frac{0.3679}{1+0.3679} = 0.269$"
   ]
  },
  {
   "cell_type": "code",
   "execution_count": 70,
   "metadata": {},
   "outputs": [
    {
     "data": {
      "text/plain": [
       "0.26896108301760263"
      ]
     },
     "execution_count": 70,
     "metadata": {},
     "output_type": "execute_result"
    }
   ],
   "source": [
    "#Using Python\n",
    "prob = odds/(1+odds)\n",
    "prob"
   ]
  },
  {
   "cell_type": "markdown",
   "metadata": {},
   "source": [
    "Therefore, the probability that they are a superhost is $0.27$."
   ]
  },
  {
   "cell_type": "markdown",
   "metadata": {},
   "source": [
    "## 6. Interaction\n",
    "\n",
    "### 6.1. Number of Reviews vs. Superhost Status by Property Type\n",
    "The scatterplot displays the super host status response variable with values that are either 0 or 1. It also displays the number_of_reviews variable and color coded points by property type. Finally, it displays a logistic regression curve to each set of these points (ie. a logistic regression curve for apartments and a logistic regression curve for houses). "
   ]
  },
  {
   "cell_type": "code",
   "execution_count": 71,
   "metadata": {},
   "outputs": [
    {
     "data": {
      "image/png": "[encoded data removed]",
      "text/plain": [
       "<Figure size 449.25x360 with 1 Axes>"
      ]
     },
     "metadata": {
      "needs_background": "light"
     },
     "output_type": "display_data"
    }
   ],
   "source": [
    "sns.lmplot(x=\"number_of_reviews\", y='y',data=df, hue='property_type', logistic=True)\n",
    "plt.ylabel('1=superhost, 0=not_superhost')\n",
    "plt.show()"
   ]
  },
  {
   "cell_type": "markdown",
   "metadata": {},
   "source": [
    "### 6.2. Interaction Effect\n",
    "\n",
    "There is an interaction between property type and number of reviews when predicting the superhost status of an airbnb host in this data because the logistic regression curve \"stretch\" is different for these two curves."
   ]
  },
  {
   "cell_type": "markdown",
   "metadata": {},
   "source": [
    "### 6.3. New Logistic Regression Model with Interaction Term\n",
    "\n",
    "New logistic regression model that will predict the probability that a given Airbnb listing host **is a superhost** ie. **(y=1)**, given the following explanatory variables:\n",
    "* listing price\n",
    "* review scores rating\n",
    "* number of reviews\n",
    "* neighborhod\n",
    "* property type\n",
    "* interaction between property type and number of reviews"
   ]
  },
  {
   "cell_type": "code",
   "execution_count": 72,
   "metadata": {},
   "outputs": [
    {
     "name": "stdout",
     "output_type": "stream",
     "text": [
      "Optimization terminated successfully.\n",
      "         Current function value: 0.476188\n",
      "         Iterations 8\n"
     ]
    },
    {
     "data": {
      "text/html": [
       "<table class=\"simpletable\">\n",
       "<caption>Logit Regression Results</caption>\n",
       "<tr>\n",
       "  <th>Dep. Variable:</th>           <td>y</td>        <th>  No. Observations:  </th>  <td>   339</td>  \n",
       "</tr>\n",
       "<tr>\n",
       "  <th>Model:</th>                 <td>Logit</td>      <th>  Df Residuals:      </th>  <td>   329</td>  \n",
       "</tr>\n",
       "<tr>\n",
       "  <th>Method:</th>                 <td>MLE</td>       <th>  Df Model:          </th>  <td>     9</td>  \n",
       "</tr>\n",
       "<tr>\n",
       "  <th>Date:</th>            <td>Mon, 12 Sep 2022</td> <th>  Pseudo R-squ.:     </th>  <td>0.2182</td>  \n",
       "</tr>\n",
       "<tr>\n",
       "  <th>Time:</th>                <td>17:41:01</td>     <th>  Log-Likelihood:    </th> <td> -161.43</td> \n",
       "</tr>\n",
       "<tr>\n",
       "  <th>converged:</th>             <td>True</td>       <th>  LL-Null:           </th> <td> -206.49</td> \n",
       "</tr>\n",
       "<tr>\n",
       "  <th>Covariance Type:</th>     <td>nonrobust</td>    <th>  LLR p-value:       </th> <td>1.542e-15</td>\n",
       "</tr>\n",
       "</table>\n",
       "<table class=\"simpletable\">\n",
       "<tr>\n",
       "                      <td></td>                        <th>coef</th>     <th>std err</th>      <th>z</th>      <th>P>|z|</th>  <th>[0.025</th>    <th>0.975]</th>  \n",
       "</tr>\n",
       "<tr>\n",
       "  <th>Intercept</th>                                <td>  -25.3202</td> <td>    5.221</td> <td>   -4.850</td> <td> 0.000</td> <td>  -35.553</td> <td>  -15.088</td>\n",
       "</tr>\n",
       "<tr>\n",
       "  <th>neighborhood[T.Broadway]</th>                 <td>   -1.0606</td> <td>    0.391</td> <td>   -2.714</td> <td> 0.007</td> <td>   -1.827</td> <td>   -0.295</td>\n",
       "</tr>\n",
       "<tr>\n",
       "  <th>neighborhood[T.Fremont]</th>                  <td>   -0.7265</td> <td>    0.494</td> <td>   -1.470</td> <td> 0.141</td> <td>   -1.695</td> <td>    0.242</td>\n",
       "</tr>\n",
       "<tr>\n",
       "  <th>neighborhood[T.Minor]</th>                    <td>    0.2143</td> <td>    0.501</td> <td>    0.428</td> <td> 0.669</td> <td>   -0.768</td> <td>    1.197</td>\n",
       "</tr>\n",
       "<tr>\n",
       "  <th>neighborhood[T.Wallingford]</th>              <td>   -0.3108</td> <td>    0.476</td> <td>   -0.653</td> <td> 0.514</td> <td>   -1.244</td> <td>    0.622</td>\n",
       "</tr>\n",
       "<tr>\n",
       "  <th>property_type[T.House]</th>                   <td>   -1.2670</td> <td>    0.474</td> <td>   -2.674</td> <td> 0.008</td> <td>   -2.196</td> <td>   -0.338</td>\n",
       "</tr>\n",
       "<tr>\n",
       "  <th>price</th>                                    <td>    0.0020</td> <td>    0.002</td> <td>    1.320</td> <td> 0.187</td> <td>   -0.001</td> <td>    0.005</td>\n",
       "</tr>\n",
       "<tr>\n",
       "  <th>review_scores_rating</th>                     <td>    0.2546</td> <td>    0.053</td> <td>    4.793</td> <td> 0.000</td> <td>    0.151</td> <td>    0.359</td>\n",
       "</tr>\n",
       "<tr>\n",
       "  <th>number_of_reviews</th>                        <td>    0.0109</td> <td>    0.005</td> <td>    2.251</td> <td> 0.024</td> <td>    0.001</td> <td>    0.020</td>\n",
       "</tr>\n",
       "<tr>\n",
       "  <th>property_type[T.House]:number_of_reviews</th> <td>    0.0274</td> <td>    0.009</td> <td>    2.888</td> <td> 0.004</td> <td>    0.009</td> <td>    0.046</td>\n",
       "</tr>\n",
       "</table>"
      ],
      "text/plain": [
       "<class 'statsmodels.iolib.summary.Summary'>\n",
       "\"\"\"\n",
       "                           Logit Regression Results                           \n",
       "==============================================================================\n",
       "Dep. Variable:                      y   No. Observations:                  339\n",
       "Model:                          Logit   Df Residuals:                      329\n",
       "Method:                           MLE   Df Model:                            9\n",
       "Date:                Mon, 12 Sep 2022   Pseudo R-squ.:                  0.2182\n",
       "Time:                        17:41:01   Log-Likelihood:                -161.43\n",
       "converged:                       True   LL-Null:                       -206.49\n",
       "Covariance Type:            nonrobust   LLR p-value:                 1.542e-15\n",
       "============================================================================================================\n",
       "                                               coef    std err          z      P>|z|      [0.025      0.975]\n",
       "------------------------------------------------------------------------------------------------------------\n",
       "Intercept                                  -25.3202      5.221     -4.850      0.000     -35.553     -15.088\n",
       "neighborhood[T.Broadway]                    -1.0606      0.391     -2.714      0.007      -1.827      -0.295\n",
       "neighborhood[T.Fremont]                     -0.7265      0.494     -1.470      0.141      -1.695       0.242\n",
       "neighborhood[T.Minor]                        0.2143      0.501      0.428      0.669      -0.768       1.197\n",
       "neighborhood[T.Wallingford]                 -0.3108      0.476     -0.653      0.514      -1.244       0.622\n",
       "property_type[T.House]                      -1.2670      0.474     -2.674      0.008      -2.196      -0.338\n",
       "price                                        0.0020      0.002      1.320      0.187      -0.001       0.005\n",
       "review_scores_rating                         0.2546      0.053      4.793      0.000       0.151       0.359\n",
       "number_of_reviews                            0.0109      0.005      2.251      0.024       0.001       0.020\n",
       "property_type[T.House]:number_of_reviews     0.0274      0.009      2.888      0.004       0.009       0.046\n",
       "============================================================================================================\n",
       "\"\"\""
      ]
     },
     "execution_count": 72,
     "metadata": {},
     "output_type": "execute_result"
    }
   ],
   "source": [
    "mod2=smf.logit('y~price+review_scores_rating+number_of_reviews+neighborhood+property_type+property_type*number_of_reviews', data=df).fit()\n",
    "mod2.summary()"
   ]
  },
  {
   "cell_type": "markdown",
   "metadata": {},
   "source": [
    "### 6.4. Fit the Model\n"
   ]
  },
  {
   "cell_type": "markdown",
   "metadata": {},
   "source": [
    "$ln(\\frac{\\hat{p}}{1-\\hat{p}}) = -25.3202 -1.0606neighborhood[Broadway] -0.7265\tneighborhood[Fremont] +0.2143\tneighborhood[Minor] -0.3108neighborhood[Wallingford] -1.2670propertytype[house] +0.0020price+ 0.2546reviewscoresrating+ 0.0109numberofreviews + 0.0274property\\_type[T.House]*number\\_of\\_reviews$"
   ]
  },
  {
   "cell_type": "markdown",
   "metadata": {},
   "source": [
    "### 6.5. Interaction Effect in the Population Model"
   ]
  },
  {
   "cell_type": "markdown",
   "metadata": {},
   "source": [
    "There is sufficient evidence to suggest that there is an interaction effect between property type and number of reviews in the corresponding population model.\n",
    "\n",
    "If $\\beta_9$ is the population slope for $property\\_type[T.House]\\times number\\_of\\_reviews$ in the corresponding population model, then the following hypotheses can be set up.\n",
    "\n",
    "$H_0: \\beta_9=0$\n",
    "\n",
    "$H_A: \\beta_9\\neq 0$\n",
    "\n",
    "\n",
    "Since the p-value for this test is 0.004 which is less than $\\alpha =0.01$, then the null hypothesis is rejected. Therefore, there is sufficient evidence to suggest that $\\beta_9\\neq 0$ which means that there is an interaction between these two variables in the population model."
   ]
  }
 ],
 "metadata": {
  "kernelspec": {
   "display_name": "Python 3.9.6 64-bit",
   "language": "python",
   "name": "python3"
  },
  "language_info": {
   "codemirror_mode": {
    "name": "ipython",
    "version": 3
   },
   "file_extension": ".py",
   "mimetype": "text/x-python",
   "name": "python",
   "nbconvert_exporter": "python",
   "pygments_lexer": "ipython3",
   "version": "3.9.6"
  },
  "vscode": {
   "interpreter": {
    "hash": "aee8b7b246df8f9039afb4144a1f6fd8d2ca17a180786b69acc140d282b71a49"
   }
  }
 },
 "nbformat": 4,
 "nbformat_minor": 4
}
